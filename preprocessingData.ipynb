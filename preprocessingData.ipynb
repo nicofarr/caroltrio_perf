{
 "cells": [
  {
   "cell_type": "markdown",
   "metadata": {},
   "source": [
    "This notebook change the length of all wav files preprocessed to 22kHz "
   ]
  },
  {
   "cell_type": "code",
   "execution_count": 1,
   "metadata": {},
   "outputs": [],
   "source": [
    "import matplotlib.pyplot as plt \n",
    "%matplotlib inline \n",
    "import numpy as np \n",
    "from analysis import quantize\n",
    "import os "
   ]
  },
  {
   "cell_type": "code",
   "execution_count": 2,
   "metadata": {},
   "outputs": [],
   "source": [
    "filepath = '/home/brain/Desktop/BrainSongs/audiosummary_private/christopherocher/'\n",
    "listfiles = os.listdir(filepath)\n",
    "listnpz = []\n",
    "for c in listfiles:\n",
    "    if c[-3:] == 'npz':\n",
    "        listnpz.append(os.path.join(filepath,c))"
   ]
  },
  {
   "cell_type": "code",
   "execution_count": 7,
   "metadata": {},
   "outputs": [
    {
     "data": {
      "text/plain": [
       "['/home/brain/Desktop/BrainSongs/audiosummary_private/christopherocher/caroleeg_sess3.npz',\n",
       " '/home/brain/Desktop/BrainSongs/audiosummary_private/christopherocher/caroleeg_sess5_2.npz',\n",
       " '/home/brain/Desktop/BrainSongs/audiosummary_private/christopherocher/caroleeg_sess5_1.npz',\n",
       " '/home/brain/Desktop/BrainSongs/audiosummary_private/christopherocher/caroleeg_sess2.npz',\n",
       " '/home/brain/Desktop/BrainSongs/audiosummary_private/christopherocher/caroleeg_sess4_1.npz',\n",
       " '/home/brain/Desktop/BrainSongs/audiosummary_private/christopherocher/caroleeg_sess6.npz',\n",
       " '/home/brain/Desktop/BrainSongs/audiosummary_private/christopherocher/caroleeg_sess4_3.npz',\n",
       " '/home/brain/Desktop/BrainSongs/audiosummary_private/christopherocher/caroleeg_sess4_2.npz',\n",
       " '/home/brain/Desktop/BrainSongs/audiosummary_private/christopherocher/caroleeg_perf1.npz',\n",
       " '/home/brain/Desktop/BrainSongs/audiosummary_private/christopherocher/caroleeg_perf2.npz']"
      ]
     },
     "execution_count": 7,
     "metadata": {},
     "output_type": "execute_result"
    }
   ],
   "source": [
    "listnpz\n"
   ]
  },
  {
   "cell_type": "code",
   "execution_count": 3,
   "metadata": {},
   "outputs": [],
   "source": [
    "import soundfile as sf\n",
    "def load(filepath):\n",
    "    sound, sr = sf.read(filepath,dtype ='float32')   \n",
    "    return sound,sr"
   ]
  },
  {
   "cell_type": "code",
   "execution_count": 4,
   "metadata": {},
   "outputs": [],
   "source": [
    "\n",
    "def cut(filepath,addnoise = True):\n",
    "    resultdir = os.path.join('data_clean')\n",
    "    os.makedirs(resultdir,exist_ok=True)\n",
    "    # audio 22kHz, mono\n",
    "    audiopath = '/home/brain/Desktop/BrainSongs/audiosummary_private/audio22k/'\n",
    "    for curnpz in listnpz:\n",
    "        focus = np.load(curnpz)['focus']\n",
    "        \n",
    "        subjtime = np.load(curnpz)['subjtime']\n",
    "        #Quantization\n",
    "        focus_q = quantize(focus,res=1,delaytime=0) \n",
    "        subt_q = quantize(subjtime,res=1,delaytime=1)\n",
    "\n",
    "        maxtime = min(focus_q.shape[0],subt_q.shape[0])\n",
    "\n",
    "        if addnoise:\n",
    "            focus_q[:maxtime,1] += np.random.rand(maxtime)\n",
    "            subt_q[:maxtime,1] += np.random.rand(maxtime)\n",
    "        \n",
    "        ## name of audiofile\n",
    "        name = curnpz.split('/')[7][:-4] \n",
    "        audio,sr = load(\"{}{}_.wav\".format(audiopath,name))\n",
    "        print(\"Maxtime : {}s, audio.shape : {}s\".format(maxtime,audio.shape[0]/sr))\n",
    "        if audio.shape[0] > maxtime*sr:\n",
    "            audio = audio[:maxtime*sr]        \n",
    "        #save\n",
    "        sf.write('{}/{}.wav'.format(resultdir,name), audio, sr)\n",
    "        \n",
    "        print(\"audio ok, new shape : {}s\".format(audio.shape[0]/sr))"
   ]
  },
  {
   "cell_type": "code",
   "execution_count": 41,
   "metadata": {},
   "outputs": [
    {
     "name": "stdout",
     "output_type": "stream",
     "text": [
      "Maxtime : 1701s, audio.shape : 1766.7273015873016s\n",
      "audio ok, new shape : 1701.0s\n",
      "npz ok\n",
      "Maxtime : 895s, audio.shape : 951.2727437641723s\n",
      "audio ok, new shape : 895.0s\n",
      "npz ok\n",
      "Maxtime : 602s, audio.shape : 698.1818594104309s\n",
      "audio ok, new shape : 602.0s\n",
      "npz ok\n",
      "Maxtime : 907s, audio.shape : 977.4545578231292s\n",
      "audio ok, new shape : 907.0s\n",
      "npz ok\n",
      "Maxtime : 543s, audio.shape : 558.5454875283447s\n",
      "audio ok, new shape : 543.0s\n",
      "npz ok\n",
      "Maxtime : 1724s, audio.shape : 1741.0909297052153s\n",
      "audio ok, new shape : 1724.0s\n",
      "npz ok\n",
      "Maxtime : 453s, audio.shape : 558.5454875283447s\n",
      "audio ok, new shape : 453.0s\n",
      "npz ok\n",
      "Maxtime : 594s, audio.shape : 558.5454875283447s\n",
      "audio ok, new shape : 558.5454875283447s\n",
      "npz ok\n",
      "Maxtime : 789s, audio.shape : 855.2727437641723s\n",
      "audio ok, new shape : 789.0s\n",
      "npz ok\n",
      "Maxtime : 1048s, audio.shape : 1077.818185941043s\n",
      "audio ok, new shape : 1048.0s\n",
      "npz ok\n"
     ]
    }
   ],
   "source": [
    "#quantize and save data\n",
    "cut(filepath)"
   ]
  },
  {
   "cell_type": "code",
   "execution_count": 5,
   "metadata": {},
   "outputs": [],
   "source": [
    "def get_values():\n",
    "    to_time = {}    \n",
    "    with open('/home/brain/Desktop/BrainSongs/audiosummary_private/soundnet/relation_layer_seconds.txt', 'r') as reader:\n",
    "        for i in reader:\n",
    "            key,m,b = i.split()\n",
    "            if key != 'name_layer':\n",
    "                to_time[key] = [float(m),float(b)]\n",
    "    return to_time"
   ]
  },
  {
   "cell_type": "code",
   "execution_count": 10,
   "metadata": {},
   "outputs": [],
   "source": [
    "from graphics import *\n",
    "#change resolution to conv7 and align data from cluster\n",
    "def change_to_res_audio(name_layer,addnoise = True,cluster_path = './results_13_08/'):\n",
    "    resultdir = os.path.join('data_clean_')\n",
    "    os.makedirs(resultdir,exist_ok=True)\n",
    "  \n",
    "    #find resolution\n",
    "    cursr = 22050\n",
    "    m,b = get_values()[name_layer] #get slope (m) and interception (b) for a given layer\n",
    "    res = (1/m) #separation in time\n",
    "    \n",
    "    #path to data clusters\n",
    "    \n",
    "   \n",
    "    for curnpz in listnpz:\n",
    "        focus = np.load(curnpz)['focus']\n",
    "        \n",
    "        subjtime = np.load(curnpz)['subjtime']\n",
    "        #Quantization\n",
    "        focus_q = quantize(focus,res=res,delaytime=0) \n",
    "        subt_q = quantize(subjtime,res=res,delaytime=1)\n",
    "\n",
    "        #find the min include vector of clustering\n",
    "        ## name of audiofile\n",
    "        name = curnpz.split('/')[7][:-4]  \n",
    "        #labels_audio\n",
    "        labels = np.load(\"{}{}/features_conv_v27.npz\".format(cluster_path,name))['labels']\n",
    "        print(focus_q.shape[0],subt_q.shape[0],labels.shape[0])\n",
    "        maxtime = min(focus_q.shape[0],subt_q.shape[0],labels.shape[0])\n",
    "        \n",
    "        labels_audio = labels[:maxtime,1]\n",
    "        \n",
    "        if addnoise:\n",
    "            focus_q[:maxtime,1] += np.random.rand(maxtime)\n",
    "            subt_q[:maxtime,1] += np.random.rand(maxtime)\n",
    "        \n",
    "        #make cluster\n",
    "        focus = focus_q[:maxtime,1]\n",
    "        subjtime  = subt_q[:maxtime,1]\n",
    "        \n",
    "        matrix = get_matrix(focus,subjtime,curnpz)\n",
    "        labels, cal = make_cluster(matrix,True)\n",
    "        \n",
    "        \n",
    "        print(\"File {}, length {}, res {:.2f}\".format(name,maxtime,res))\n",
    "        np.savez_compressed(\"{}/{}.npz\".format(resultdir,name),\n",
    "                            focus = focus,\n",
    "                            subjtime = subjtime,\n",
    "                            labels = labels,\n",
    "                            cal = cal,\n",
    "                           labels_audio = labels_audio)\n",
    "        print(\"npz saved in data clean : focus, subjtime and labels \")"
   ]
  },
  {
   "cell_type": "code",
   "execution_count": 11,
   "metadata": {},
   "outputs": [
    {
     "name": "stderr",
     "output_type": "stream",
     "text": [
      " 11%|█         | 1/9 [00:00<00:01,  7.12it/s]"
     ]
    },
    {
     "name": "stdout",
     "output_type": "stream",
     "text": [
      "1171 1139 1146\n",
      "(1139, 2)\n"
     ]
    },
    {
     "name": "stderr",
     "output_type": "stream",
     "text": [
      "100%|██████████| 9/9 [00:01<00:00,  7.03it/s]\n",
      "  0%|          | 0/9 [00:00<?, ?it/s]"
     ]
    },
    {
     "name": "stdout",
     "output_type": "stream",
     "text": [
      "Best number of cluster is 2\n",
      "xxxxxxx 2\n",
      "File caroleeg_sess3, length 1139, res 1.49\n",
      "npz saved in data clean : focus, subjtime and labels \n",
      "599 599 603\n",
      "(599, 2)\n"
     ]
    },
    {
     "name": "stderr",
     "output_type": "stream",
     "text": [
      "100%|██████████| 9/9 [00:00<00:00, 18.68it/s]\n",
      " 44%|████▍     | 4/9 [00:00<00:00, 32.83it/s]"
     ]
    },
    {
     "name": "stdout",
     "output_type": "stream",
     "text": [
      "Best number of cluster is 6\n",
      "xxxxxxx 4\n",
      "File caroleeg_sess5_2, length 599, res 1.49\n",
      "npz saved in data clean : focus, subjtime and labels \n",
      "403 403 406\n",
      "(403, 2)\n"
     ]
    },
    {
     "name": "stderr",
     "output_type": "stream",
     "text": [
      "100%|██████████| 9/9 [00:00<00:00, 23.69it/s]\n",
      " 33%|███▎      | 3/9 [00:00<00:00, 23.57it/s]"
     ]
    },
    {
     "name": "stdout",
     "output_type": "stream",
     "text": [
      "Best number of cluster is 7\n",
      "xxxxxxx 4\n",
      "File caroleeg_sess5_1, length 403, res 1.49\n",
      "npz saved in data clean : focus, subjtime and labels \n",
      "607 607 611\n",
      "(607, 2)\n"
     ]
    },
    {
     "name": "stderr",
     "output_type": "stream",
     "text": [
      "100%|██████████| 9/9 [00:00<00:00, 19.31it/s]\n",
      " 44%|████▍     | 4/9 [00:00<00:00, 35.89it/s]"
     ]
    },
    {
     "name": "stdout",
     "output_type": "stream",
     "text": [
      "Best number of cluster is 7\n",
      "xxxxxxx 4\n",
      "File caroleeg_sess2, length 607, res 1.49\n",
      "npz saved in data clean : focus, subjtime and labels \n",
      "363 363 367\n",
      "(363, 2)\n"
     ]
    },
    {
     "name": "stderr",
     "output_type": "stream",
     "text": [
      "100%|██████████| 9/9 [00:00<00:00, 27.08it/s]\n",
      "  0%|          | 0/9 [00:00<?, ?it/s]"
     ]
    },
    {
     "name": "stdout",
     "output_type": "stream",
     "text": [
      "Best number of cluster is 6\n",
      "xxxxxxx 6\n",
      "File caroleeg_sess4_1, length 363, res 1.49\n",
      "npz saved in data clean : focus, subjtime and labels \n",
      "1154 1154 1161\n",
      "(1154, 2)\n"
     ]
    },
    {
     "name": "stderr",
     "output_type": "stream",
     "text": [
      "100%|██████████| 9/9 [00:01<00:00,  7.42it/s]\n",
      "  0%|          | 0/9 [00:00<?, ?it/s]"
     ]
    },
    {
     "name": "stdout",
     "output_type": "stream",
     "text": [
      "Best number of cluster is 5\n",
      "xxxxxxx 4\n",
      "File caroleeg_sess6, length 1154, res 1.49\n",
      "npz saved in data clean : focus, subjtime and labels \n",
      "303 303 306\n",
      "(303, 2)\n"
     ]
    },
    {
     "name": "stderr",
     "output_type": "stream",
     "text": [
      "100%|██████████| 9/9 [00:00<00:00, 37.85it/s]\n",
      " 56%|█████▌    | 5/9 [00:00<00:00, 39.62it/s]"
     ]
    },
    {
     "name": "stdout",
     "output_type": "stream",
     "text": [
      "Best number of cluster is 10\n",
      "xxxxxxx 4\n",
      "File caroleeg_sess4_3, length 303, res 1.49\n",
      "npz saved in data clean : focus, subjtime and labels \n",
      "397 397 377\n",
      "(377, 2)\n"
     ]
    },
    {
     "name": "stderr",
     "output_type": "stream",
     "text": [
      "100%|██████████| 9/9 [00:00<00:00, 29.37it/s]\n",
      " 33%|███▎      | 3/9 [00:00<00:00, 28.99it/s]"
     ]
    },
    {
     "name": "stdout",
     "output_type": "stream",
     "text": [
      "Best number of cluster is 3\n",
      "xxxxxxx 3\n",
      "File caroleeg_sess4_2, length 377, res 1.49\n",
      "npz saved in data clean : focus, subjtime and labels \n",
      "528 528 532\n",
      "(528, 2)\n"
     ]
    },
    {
     "name": "stderr",
     "output_type": "stream",
     "text": [
      "100%|██████████| 9/9 [00:00<00:00, 20.81it/s]\n",
      " 22%|██▏       | 2/9 [00:00<00:00, 19.72it/s]"
     ]
    },
    {
     "name": "stdout",
     "output_type": "stream",
     "text": [
      "Best number of cluster is 7\n",
      "xxxxxxx 4\n",
      "File caroleeg_perf1, length 528, res 1.49\n",
      "npz saved in data clean : focus, subjtime and labels \n",
      "701 701 706\n",
      "(701, 2)\n"
     ]
    },
    {
     "name": "stderr",
     "output_type": "stream",
     "text": [
      "100%|██████████| 9/9 [00:00<00:00, 16.21it/s]\n"
     ]
    },
    {
     "name": "stdout",
     "output_type": "stream",
     "text": [
      "Best number of cluster is 4\n",
      "xxxxxxx 4\n",
      "File caroleeg_perf2, length 701, res 1.49\n",
      "npz saved in data clean : focus, subjtime and labels \n"
     ]
    }
   ],
   "source": [
    "change_to_res_audio('conv7')"
   ]
  },
  {
   "cell_type": "markdown",
   "metadata": {},
   "source": []
  }
 ],
 "metadata": {
  "kernelspec": {
   "display_name": "Python 3",
   "language": "python",
   "name": "python3"
  },
  "language_info": {
   "codemirror_mode": {
    "name": "ipython",
    "version": 3
   },
   "file_extension": ".py",
   "mimetype": "text/x-python",
   "name": "python",
   "nbconvert_exporter": "python",
   "pygments_lexer": "ipython3",
   "version": "3.7.3"
  }
 },
 "nbformat": 4,
 "nbformat_minor": 2
}
